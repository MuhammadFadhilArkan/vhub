{
 "cells": [
  {
   "cell_type": "code",
   "execution_count": 23,
   "id": "7a4737e3-113f-44ae-88ce-98ae78bc9c3f",
   "metadata": {},
   "outputs": [],
   "source": [
    "import numpy as np\n",
    "import pandas as pd \n",
    "import matplotlib.pyplot as plt\n",
    "import xml.etree.cElementTree as ET\n",
    "import glob\n",
    "import os\n",
    "import json\n",
    "import random\n",
    "import shutil\n",
    "import PIL\n",
    "from PIL import Image, ImageOps\n",
    "from tqdm import tqdm\n",
    "from skmultilearn.model_selection import iterative_train_test_split\n",
    "from iterstrat.ml_stratifiers import MultilabelStratifiedKFold\n",
    "import os"
   ]
  },
  {
   "cell_type": "markdown",
   "id": "18a1ad8e-301c-42dc-bacc-43ce61cb7250",
   "metadata": {
    "jp-MarkdownHeadingCollapsed": true
   },
   "source": [
    "#### Bronze"
   ]
  },
  {
   "cell_type": "code",
   "execution_count": 3,
   "id": "d625b473-1d8a-4dae-8d2a-1557deccfe67",
   "metadata": {},
   "outputs": [],
   "source": [
    "def xml_to_yolo_bbox(bbox, w, h):\n",
    "    # xmin, ymin, xmax, ymax\n",
    "    x_center = ((bbox[2] + bbox[0]) / 2) / w\n",
    "    y_center = ((bbox[3] + bbox[1]) / 2) / h\n",
    "\n",
    "    width = (bbox[2] - bbox[0]) / w\n",
    "    height = (bbox[3] - bbox[1]) / h\n",
    "\n",
    "    return [x_center, y_center, width, height]\n",
    "\n",
    "def yolo_to_xml_bbox(bbox, w, h):\n",
    "    # x_center, y_center, width, height\n",
    "    w_half_len = (bbox[2] * w) / 2\n",
    "    h_half_len = (bbox[3] * h) / 2\n",
    "\n",
    "    xmin = int((bbox[0] * w) - w_half_len)\n",
    "    ymin = int((bbox[1] * h) - h_half_len)\n",
    "    xmax = int((bbox[0] * w) + w_half_len)\n",
    "    ymax = int((bbox[1] * h) + h_half_len)\n",
    "\n",
    "    return [xmin, ymin, xmax, ymax]"
   ]
  },
  {
   "cell_type": "code",
   "execution_count": 4,
   "id": "0ee51382-82b8-4c77-950e-31ac13f57d00",
   "metadata": {},
   "outputs": [],
   "source": [
    "classes = [\"without_mask\", \"with_mask\", \"mask_weared_incorrect\"]\n",
    "\n",
    "raw_label_dir = \"../data/raw/annotations\"\n",
    "raw_image_dir = \"../data/raw/images\"\n",
    "bronze_label_dir = \"../data/bronze/labels\"\n",
    "bronze_label_metadata_dir = \"../data/bronze\"\n",
    "\n",
    "if not os.path.isdir(bronze_label_dir):\n",
    "    os.mkdir(bronze_label_dir)\n",
    "\n",
    "files = glob.glob(os.path.join(raw_label_dir, \"*.xml\"))"
   ]
  },
  {
   "cell_type": "code",
   "execution_count": 22,
   "id": "e9be3868-de1b-401a-bb59-30a917e0d658",
   "metadata": {},
   "outputs": [
    {
     "name": "stderr",
     "output_type": "stream",
     "text": [
      "100%|██████████████████████████████████████████████████████████████████████████████| 853/853 [00:00<00:00, 2049.16it/s]\n"
     ]
    }
   ],
   "source": [
    "for file in tqdm(files):\n",
    "    basename = os.path.basename(file)\n",
    "    filename = os.path.splitext(basename)[0]\n",
    "    if not os.path.exists(os.path.join(raw_image_dir, f\"{filename}.png\")):\n",
    "        print(f\"{filename} image does not exist!\")\n",
    "        continue\n",
    "\n",
    "    result = []\n",
    "\n",
    "    tree = ET.parse(file)\n",
    "    root = tree.getroot()\n",
    "    width = int(root.find(\"size\").find(\"width\").text)\n",
    "    height = int(root.find(\"size\").find(\"height\").text)\n",
    "\n",
    "    for obj in root.findall(\"object\"):\n",
    "        label = obj.find(\"name\").text\n",
    "\n",
    "        if label not in classes:\n",
    "            classes.append(label)\n",
    "        index = classes.index(label)\n",
    "        pil_bbox = [int(x.text) for x in obj.find(\"bndbox\")]\n",
    "        yolo_bbox = xml_to_yolo_bbox(pil_bbox, width, height)\n",
    "\n",
    "        bbox_string = \" \".join([str(x) for x in yolo_bbox])\n",
    "        result.append(f\"{index} {bbox_string}\")\n",
    "\n",
    "    if result:\n",
    "        with open(os.path.join(bronze_label_dir, f\"{filename}.txt\"), \"w\", encoding = \"utf-8\") as f:\n",
    "            f.write(\"\\n\".join(result))"
   ]
  },
  {
   "cell_type": "code",
   "execution_count": 23,
   "id": "202bb8d2-233e-4e57-acfe-8e197b35899d",
   "metadata": {},
   "outputs": [],
   "source": [
    "with open(f\"{bronze_label_metadata_dir}/classes.txt\", \"w\", encoding = \"utf-8\") as f:\n",
    "    f.write(json.dumps(classes))"
   ]
  },
  {
   "cell_type": "markdown",
   "id": "e7167916-9c92-4ef4-bdeb-3298a4727495",
   "metadata": {},
   "source": [
    "#### Silver"
   ]
  },
  {
   "cell_type": "code",
   "execution_count": 29,
   "id": "50355c22-0b11-43e3-b93a-e40b916ac10c",
   "metadata": {
    "scrolled": true
   },
   "outputs": [],
   "source": [
    "bronze_label_files = glob.glob(f'{bronze_label_dir}/*.txt')\n",
    "image_files = glob.glob(f'{raw_image_dir}/*.png')"
   ]
  },
  {
   "cell_type": "code",
   "execution_count": 34,
   "id": "aa679ae1-0fdf-42f6-b0d0-2d566c044eba",
   "metadata": {
    "scrolled": true
   },
   "outputs": [
    {
     "name": "stderr",
     "output_type": "stream",
     "text": [
      "100%|████████████████████████████████████████████████████████████████████████████████| 853/853 [00:39<00:00, 21.54it/s]"
     ]
    },
    {
     "name": "stdout",
     "output_type": "stream",
     "text": [
      "0 image files is corrupted\n"
     ]
    },
    {
     "name": "stderr",
     "output_type": "stream",
     "text": [
      "\n"
     ]
    }
   ],
   "source": [
    "corrupt_img = []\n",
    "for file in tqdm(image_files):\n",
    "    try:\n",
    "        im = Image.open(file)\n",
    "        im.verify() #detect defect on image\n",
    "        im.close() \n",
    "        \n",
    "        #reload is necessary\n",
    "        im = Image.open(file) \n",
    "        im.transpose(PIL.Image.FLIP_LEFT_RIGHT) #detect truncated image\n",
    "        im.close()\n",
    "        \n",
    "        statfile = os.stat(file)\n",
    "        filesize = statfile.st_size\n",
    "        if filesize == 0: #check image size\n",
    "            corrupt_img.append(file)\n",
    "    except: \n",
    "        corrupt_img.append(file)\n",
    "\n",
    "print(f'{len(corrupt_img)} image files is corrupted')"
   ]
  },
  {
   "cell_type": "code",
   "execution_count": null,
   "id": "5b8ce6f6-de2c-4b2a-9700-9f4dd4192bfe",
   "metadata": {},
   "outputs": [],
   "source": [
    "classes = []\n",
    "for file in tqdm(bronze_label_files):\n",
    "    with open(file, \"r\", encoding = \"utf-8\") as f:\n",
    "        lines = f.read()\n",
    "        class_ = list(set([i[0] for i in lines.split('\\n')]))\n",
    "        class_.sort()\n",
    "    classes.append(class_)"
   ]
  },
  {
   "cell_type": "code",
   "execution_count": 170,
   "id": "bf7001b1-579a-4b8b-9854-d8a715872748",
   "metadata": {},
   "outputs": [],
   "source": [
    "df = pd.DataFrame({'classes': classes})\n",
    "df = df.astype({'classes': 'string'})\n",
    "df['class_0'] = df[\"classes\"].str.contains('0').astype('int32')\n",
    "df['class_1'] = df[\"classes\"].str.contains('1').astype('int32')\n",
    "df['class_2'] = df[\"classes\"].str.contains('2').astype('int32')\n",
    "df = df.drop('classes', axis=1)"
   ]
  },
  {
   "cell_type": "code",
   "execution_count": 171,
   "id": "b68a164d-4bba-42f6-a9ff-77acb7cb4d86",
   "metadata": {
    "scrolled": true
   },
   "outputs": [],
   "source": [
    "X = np.array([[i,l] for i,l in zip(image_files, bronze_label_files)])\n",
    "y = df.values"
   ]
  },
  {
   "cell_type": "code",
   "execution_count": 172,
   "id": "6e5bd19f-d9b1-4f89-99ce-a7dc4ed46658",
   "metadata": {},
   "outputs": [],
   "source": [
    "X_train, y_train, X_val, y_val = iterative_train_test_split(X, y, test_size = 0.25)"
   ]
  },
  {
   "cell_type": "code",
   "execution_count": 173,
   "id": "f66ac627-ef02-41a6-a863-90e8a8139d28",
   "metadata": {},
   "outputs": [],
   "source": [
    "df_train = pd.concat([pd.DataFrame(X_train).rename(columns={0: \"image\", 1: \"label\"}),\n",
    "                      pd.DataFrame(y_train).rename(columns={0: \"label_0\", 1: \"label_1\", 2:\"label_2\"})\n",
    "                     ], axis=1)\n",
    "\n",
    "df_val = pd.concat([pd.DataFrame(X_val).rename(columns={0: \"image\", 1: \"label\"}),\n",
    "                     pd.DataFrame(y_val).rename(columns={0: \"label_0\", 1: \"label_1\", 2:\"label_2\"})\n",
    "                    ], axis=1)"
   ]
  },
  {
   "cell_type": "code",
   "execution_count": 174,
   "id": "7bc6dfef-9ff5-4710-81e1-598201b07b59",
   "metadata": {},
   "outputs": [],
   "source": [
    "silver_label_dir = '../data/silver/labels'\n",
    "silver_image_dir = '../data/silver/images'\n",
    "train_split = 0.8\n",
    "\n",
    "if not os.path.exists(silver_label_dir): \n",
    "    os.makedirs(silver_label_dir)\n",
    "    os.makedirs(f'{silver_label_dir}/train')\n",
    "    os.makedirs(f'{silver_label_dir}/val')\n",
    "if not os.path.exists(silver_image_dir): \n",
    "    os.makedirs(silver_image_dir)\n",
    "    os.makedirs(f'{silver_image_dir}/train')\n",
    "    os.makedirs(f'{silver_image_dir}/val')\n",
    "\n",
    "for im,lbl in df_train[['image', 'label']].values.tolist():\n",
    "    im = im.replace('\\\\', '/')\n",
    "    lbl = lbl.replace('\\\\', '/')\n",
    "    shutil.copyfile(im, f\"{silver_image_dir}/train/{im.split('/')[-1]}\")\n",
    "    shutil.copyfile(lbl, f\"{silver_label_dir}/train/{lbl.split('/')[-1]}\")\n",
    "\n",
    "for im,lbl in df_val[['image', 'label']].values.tolist():\n",
    "    im = im.replace('\\\\', '/')\n",
    "    lbl = lbl.replace('\\\\', '/')\n",
    "    shutil.copyfile(im, f\"{silver_image_dir}/val/{im.split('/')[-1]}\")\n",
    "    shutil.copyfile(lbl, f\"{silver_label_dir}/val/{lbl.split('/')[-1]}\")"
   ]
  },
  {
   "cell_type": "code",
   "execution_count": null,
   "id": "0bc071bc-0892-4ee4-8a54-6867cbf04f20",
   "metadata": {},
   "outputs": [],
   "source": []
  },
  {
   "cell_type": "code",
   "execution_count": null,
   "id": "77efe36a-d5bc-46a2-8f73-24c3bf2336ba",
   "metadata": {},
   "outputs": [],
   "source": []
  },
  {
   "cell_type": "code",
   "execution_count": null,
   "id": "1dc8ab30-8dde-4484-b56c-a0f74b2b7cec",
   "metadata": {},
   "outputs": [],
   "source": []
  },
  {
   "cell_type": "code",
   "execution_count": null,
   "id": "fdc3155b-44a5-4cf2-8037-07caa111136c",
   "metadata": {},
   "outputs": [],
   "source": []
  },
  {
   "cell_type": "code",
   "execution_count": null,
   "id": "2d333876-ac74-4d62-8841-4383afe90475",
   "metadata": {},
   "outputs": [],
   "source": []
  },
  {
   "cell_type": "code",
   "execution_count": null,
   "id": "d20cce56-6420-42e4-a625-afdb7c89f2c2",
   "metadata": {},
   "outputs": [],
   "source": []
  },
  {
   "cell_type": "code",
   "execution_count": null,
   "id": "dffc8b0a-ef5b-4532-9269-8924390704a7",
   "metadata": {},
   "outputs": [],
   "source": []
  },
  {
   "cell_type": "code",
   "execution_count": null,
   "id": "3432625f-e8a8-41fd-a243-d80fa9ba3811",
   "metadata": {},
   "outputs": [],
   "source": []
  },
  {
   "cell_type": "code",
   "execution_count": null,
   "id": "05f54448-5445-4f64-9b15-d8e6f7e230c1",
   "metadata": {},
   "outputs": [],
   "source": []
  },
  {
   "cell_type": "code",
   "execution_count": null,
   "id": "0a55ae3d-388f-42bc-b434-edc98eaf3304",
   "metadata": {},
   "outputs": [],
   "source": []
  },
  {
   "cell_type": "code",
   "execution_count": null,
   "id": "385d0191-477e-4c4f-a627-e7def9d0f840",
   "metadata": {},
   "outputs": [],
   "source": []
  },
  {
   "cell_type": "code",
   "execution_count": null,
   "id": "5ec5e617-5803-4d25-a0ea-b061bb6a57e0",
   "metadata": {},
   "outputs": [],
   "source": []
  },
  {
   "cell_type": "code",
   "execution_count": null,
   "id": "0372efdb-d50d-4b2d-92d8-10d58f9016df",
   "metadata": {},
   "outputs": [],
   "source": []
  },
  {
   "cell_type": "code",
   "execution_count": null,
   "id": "e8b5fc4d-79ea-41b2-8b9e-eb36cc4dec9d",
   "metadata": {},
   "outputs": [],
   "source": []
  },
  {
   "cell_type": "code",
   "execution_count": null,
   "id": "100500e7-5bd1-47f3-a57b-777b0269f74b",
   "metadata": {},
   "outputs": [],
   "source": []
  },
  {
   "cell_type": "code",
   "execution_count": null,
   "id": "d1eceb82-3c50-40bc-912f-c874808141a5",
   "metadata": {},
   "outputs": [],
   "source": []
  },
  {
   "cell_type": "code",
   "execution_count": null,
   "id": "42620d26-d32c-4332-a4fe-44fdd30f8d53",
   "metadata": {},
   "outputs": [],
   "source": []
  },
  {
   "cell_type": "code",
   "execution_count": null,
   "id": "4a39ca2a-9644-4df6-b33e-356fa09be5fd",
   "metadata": {},
   "outputs": [],
   "source": []
  },
  {
   "cell_type": "code",
   "execution_count": null,
   "id": "ec13e9e7-b219-4cc3-84d7-d899d7487832",
   "metadata": {},
   "outputs": [],
   "source": []
  },
  {
   "cell_type": "code",
   "execution_count": null,
   "id": "80affd75-c94d-4e9d-a169-df2ead01adc4",
   "metadata": {},
   "outputs": [],
   "source": []
  },
  {
   "cell_type": "code",
   "execution_count": null,
   "id": "66cfdcc4-a7a7-4bf9-8d1c-7c29d763b49f",
   "metadata": {},
   "outputs": [],
   "source": []
  },
  {
   "cell_type": "code",
   "execution_count": null,
   "id": "4945edc8-30c5-44d8-a960-23e18e8dda79",
   "metadata": {},
   "outputs": [],
   "source": []
  },
  {
   "cell_type": "code",
   "execution_count": null,
   "id": "f67d3a86-109f-4073-8701-0770033d34a3",
   "metadata": {},
   "outputs": [],
   "source": []
  },
  {
   "cell_type": "code",
   "execution_count": null,
   "id": "b4642284-4f9a-4193-9a7a-d3bcf9a10643",
   "metadata": {},
   "outputs": [],
   "source": []
  },
  {
   "cell_type": "code",
   "execution_count": null,
   "id": "3d4bfaf6-d1a8-48e1-8a2e-78424fd17041",
   "metadata": {},
   "outputs": [],
   "source": []
  },
  {
   "cell_type": "code",
   "execution_count": null,
   "id": "e65ff035-6a11-4349-8837-1546d5fc7a18",
   "metadata": {},
   "outputs": [],
   "source": []
  },
  {
   "cell_type": "code",
   "execution_count": null,
   "id": "413d0b47-7da6-4d99-a7f0-65387ead697f",
   "metadata": {},
   "outputs": [],
   "source": []
  },
  {
   "cell_type": "code",
   "execution_count": null,
   "id": "fa6b50aa-6c18-4404-b82c-ac347ec7b999",
   "metadata": {},
   "outputs": [],
   "source": []
  },
  {
   "cell_type": "code",
   "execution_count": null,
   "id": "d9a182cb-bfb3-46f5-81a6-81b27d2c458d",
   "metadata": {},
   "outputs": [],
   "source": []
  },
  {
   "cell_type": "code",
   "execution_count": null,
   "id": "06a89805-470f-4a73-919d-c4cad31bbbfe",
   "metadata": {},
   "outputs": [],
   "source": []
  },
  {
   "cell_type": "code",
   "execution_count": null,
   "id": "6efdc888-1e4c-4e78-b3cb-fea6a6664fca",
   "metadata": {},
   "outputs": [],
   "source": []
  },
  {
   "cell_type": "code",
   "execution_count": null,
   "id": "74681642-2b36-48fc-88ef-6c42b1cfdca9",
   "metadata": {},
   "outputs": [],
   "source": []
  },
  {
   "cell_type": "code",
   "execution_count": null,
   "id": "8865a6c5-9481-4454-8c2b-2122e7593e23",
   "metadata": {},
   "outputs": [],
   "source": []
  },
  {
   "cell_type": "code",
   "execution_count": null,
   "id": "c859c920-4098-42d1-ad39-e3e6ced1cd4f",
   "metadata": {},
   "outputs": [],
   "source": []
  },
  {
   "cell_type": "code",
   "execution_count": null,
   "id": "fa8ac3e3-dc8b-43dd-9a1c-feddcbe4da0c",
   "metadata": {},
   "outputs": [],
   "source": []
  },
  {
   "cell_type": "code",
   "execution_count": null,
   "id": "e8998af1-4edd-47c9-b6c0-3b0a8f4ae152",
   "metadata": {},
   "outputs": [],
   "source": []
  }
 ],
 "metadata": {
  "kernelspec": {
   "display_name": "Python 3 (ipykernel)",
   "language": "python",
   "name": "python3"
  },
  "language_info": {
   "codemirror_mode": {
    "name": "ipython",
    "version": 3
   },
   "file_extension": ".py",
   "mimetype": "text/x-python",
   "name": "python",
   "nbconvert_exporter": "python",
   "pygments_lexer": "ipython3",
   "version": "3.9.7"
  }
 },
 "nbformat": 4,
 "nbformat_minor": 5
}
